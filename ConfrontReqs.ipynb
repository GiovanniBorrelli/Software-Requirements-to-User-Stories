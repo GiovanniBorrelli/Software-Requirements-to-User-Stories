{
  "nbformat": 4,
  "nbformat_minor": 0,
  "metadata": {
    "colab": {
      "provenance": [],
      "authorship_tag": "ABX9TyPDTGFCUt8R5dRg9ZP6gOk2",
      "include_colab_link": true
    },
    "kernelspec": {
      "name": "python3",
      "display_name": "Python 3"
    },
    "language_info": {
      "name": "python"
    }
  },
  "cells": [
    {
      "cell_type": "markdown",
      "metadata": {
        "id": "view-in-github",
        "colab_type": "text"
      },
      "source": [
        "<a href=\"https://colab.research.google.com/github/GiovanniBorrelli/Software-Requirements-to-User-Stories/blob/main/ConfrontReqs.ipynb\" target=\"_parent\"><img src=\"https://colab.research.google.com/assets/colab-badge.svg\" alt=\"Open In Colab\"/></a>"
      ]
    },
    {
      "cell_type": "code",
      "source": [
        "!pip install nltk rouge-score\n",
        "!pip install bert-score\n",
        "\n",
        "import nltk\n",
        "nltk.download('wordnet')\n",
        "\n",
        "import numpy as np\n",
        "from rouge_score import rouge_scorer\n",
        "from nltk.translate.bleu_score import sentence_bleu, SmoothingFunction\n",
        "from nltk.translate.meteor_score import meteor_score\n",
        "from sklearn.feature_extraction.text import TfidfVectorizer\n",
        "from bert_score import score as bert_score\n",
        "\n",
        "import bert_score  # Import corretto del modulo bert_score\n",
        "from bert_score import score as bert_score_calculate  # Rinominare la funzione per evitare conflitti"
      ],
      "metadata": {
        "colab": {
          "base_uri": "https://localhost:8080/"
        },
        "id": "o96boYICFo9-",
        "outputId": "6e92dea7-afa3-4eae-a973-8ff03c50b929"
      },
      "execution_count": 1,
      "outputs": [
        {
          "output_type": "stream",
          "name": "stdout",
          "text": [
            "Requirement already satisfied: nltk in /usr/local/lib/python3.10/dist-packages (3.8.1)\n",
            "Collecting rouge-score\n",
            "  Downloading rouge_score-0.1.2.tar.gz (17 kB)\n",
            "  Preparing metadata (setup.py) ... \u001b[?25l\u001b[?25hdone\n",
            "Requirement already satisfied: click in /usr/local/lib/python3.10/dist-packages (from nltk) (8.1.7)\n",
            "Requirement already satisfied: joblib in /usr/local/lib/python3.10/dist-packages (from nltk) (1.4.2)\n",
            "Requirement already satisfied: regex>=2021.8.3 in /usr/local/lib/python3.10/dist-packages (from nltk) (2024.5.15)\n",
            "Requirement already satisfied: tqdm in /usr/local/lib/python3.10/dist-packages (from nltk) (4.66.5)\n",
            "Requirement already satisfied: absl-py in /usr/local/lib/python3.10/dist-packages (from rouge-score) (1.4.0)\n",
            "Requirement already satisfied: numpy in /usr/local/lib/python3.10/dist-packages (from rouge-score) (1.26.4)\n",
            "Requirement already satisfied: six>=1.14.0 in /usr/local/lib/python3.10/dist-packages (from rouge-score) (1.16.0)\n",
            "Building wheels for collected packages: rouge-score\n",
            "  Building wheel for rouge-score (setup.py) ... \u001b[?25l\u001b[?25hdone\n",
            "  Created wheel for rouge-score: filename=rouge_score-0.1.2-py3-none-any.whl size=24935 sha256=d073c9e23f439f41d906b522b3a4086f1df772a66ab030e8502fcf938219e6f4\n",
            "  Stored in directory: /root/.cache/pip/wheels/5f/dd/89/461065a73be61a532ff8599a28e9beef17985c9e9c31e541b4\n",
            "Successfully built rouge-score\n",
            "Installing collected packages: rouge-score\n",
            "Successfully installed rouge-score-0.1.2\n",
            "Collecting bert-score\n",
            "  Downloading bert_score-0.3.13-py3-none-any.whl.metadata (15 kB)\n",
            "Requirement already satisfied: torch>=1.0.0 in /usr/local/lib/python3.10/dist-packages (from bert-score) (2.4.0+cu121)\n",
            "Requirement already satisfied: pandas>=1.0.1 in /usr/local/lib/python3.10/dist-packages (from bert-score) (2.1.4)\n",
            "Requirement already satisfied: transformers>=3.0.0 in /usr/local/lib/python3.10/dist-packages (from bert-score) (4.44.2)\n",
            "Requirement already satisfied: numpy in /usr/local/lib/python3.10/dist-packages (from bert-score) (1.26.4)\n",
            "Requirement already satisfied: requests in /usr/local/lib/python3.10/dist-packages (from bert-score) (2.32.3)\n",
            "Requirement already satisfied: tqdm>=4.31.1 in /usr/local/lib/python3.10/dist-packages (from bert-score) (4.66.5)\n",
            "Requirement already satisfied: matplotlib in /usr/local/lib/python3.10/dist-packages (from bert-score) (3.7.1)\n",
            "Requirement already satisfied: packaging>=20.9 in /usr/local/lib/python3.10/dist-packages (from bert-score) (24.1)\n",
            "Requirement already satisfied: python-dateutil>=2.8.2 in /usr/local/lib/python3.10/dist-packages (from pandas>=1.0.1->bert-score) (2.8.2)\n",
            "Requirement already satisfied: pytz>=2020.1 in /usr/local/lib/python3.10/dist-packages (from pandas>=1.0.1->bert-score) (2024.1)\n",
            "Requirement already satisfied: tzdata>=2022.1 in /usr/local/lib/python3.10/dist-packages (from pandas>=1.0.1->bert-score) (2024.1)\n",
            "Requirement already satisfied: filelock in /usr/local/lib/python3.10/dist-packages (from torch>=1.0.0->bert-score) (3.15.4)\n",
            "Requirement already satisfied: typing-extensions>=4.8.0 in /usr/local/lib/python3.10/dist-packages (from torch>=1.0.0->bert-score) (4.12.2)\n",
            "Requirement already satisfied: sympy in /usr/local/lib/python3.10/dist-packages (from torch>=1.0.0->bert-score) (1.13.2)\n",
            "Requirement already satisfied: networkx in /usr/local/lib/python3.10/dist-packages (from torch>=1.0.0->bert-score) (3.3)\n",
            "Requirement already satisfied: jinja2 in /usr/local/lib/python3.10/dist-packages (from torch>=1.0.0->bert-score) (3.1.4)\n",
            "Requirement already satisfied: fsspec in /usr/local/lib/python3.10/dist-packages (from torch>=1.0.0->bert-score) (2024.6.1)\n",
            "Requirement already satisfied: huggingface-hub<1.0,>=0.23.2 in /usr/local/lib/python3.10/dist-packages (from transformers>=3.0.0->bert-score) (0.24.6)\n",
            "Requirement already satisfied: pyyaml>=5.1 in /usr/local/lib/python3.10/dist-packages (from transformers>=3.0.0->bert-score) (6.0.2)\n",
            "Requirement already satisfied: regex!=2019.12.17 in /usr/local/lib/python3.10/dist-packages (from transformers>=3.0.0->bert-score) (2024.5.15)\n",
            "Requirement already satisfied: safetensors>=0.4.1 in /usr/local/lib/python3.10/dist-packages (from transformers>=3.0.0->bert-score) (0.4.4)\n",
            "Requirement already satisfied: tokenizers<0.20,>=0.19 in /usr/local/lib/python3.10/dist-packages (from transformers>=3.0.0->bert-score) (0.19.1)\n",
            "Requirement already satisfied: contourpy>=1.0.1 in /usr/local/lib/python3.10/dist-packages (from matplotlib->bert-score) (1.3.0)\n",
            "Requirement already satisfied: cycler>=0.10 in /usr/local/lib/python3.10/dist-packages (from matplotlib->bert-score) (0.12.1)\n",
            "Requirement already satisfied: fonttools>=4.22.0 in /usr/local/lib/python3.10/dist-packages (from matplotlib->bert-score) (4.53.1)\n",
            "Requirement already satisfied: kiwisolver>=1.0.1 in /usr/local/lib/python3.10/dist-packages (from matplotlib->bert-score) (1.4.5)\n",
            "Requirement already satisfied: pillow>=6.2.0 in /usr/local/lib/python3.10/dist-packages (from matplotlib->bert-score) (9.4.0)\n",
            "Requirement already satisfied: pyparsing>=2.3.1 in /usr/local/lib/python3.10/dist-packages (from matplotlib->bert-score) (3.1.4)\n",
            "Requirement already satisfied: charset-normalizer<4,>=2 in /usr/local/lib/python3.10/dist-packages (from requests->bert-score) (3.3.2)\n",
            "Requirement already satisfied: idna<4,>=2.5 in /usr/local/lib/python3.10/dist-packages (from requests->bert-score) (3.8)\n",
            "Requirement already satisfied: urllib3<3,>=1.21.1 in /usr/local/lib/python3.10/dist-packages (from requests->bert-score) (2.0.7)\n",
            "Requirement already satisfied: certifi>=2017.4.17 in /usr/local/lib/python3.10/dist-packages (from requests->bert-score) (2024.8.30)\n",
            "Requirement already satisfied: six>=1.5 in /usr/local/lib/python3.10/dist-packages (from python-dateutil>=2.8.2->pandas>=1.0.1->bert-score) (1.16.0)\n",
            "Requirement already satisfied: MarkupSafe>=2.0 in /usr/local/lib/python3.10/dist-packages (from jinja2->torch>=1.0.0->bert-score) (2.1.5)\n",
            "Requirement already satisfied: mpmath<1.4,>=1.1.0 in /usr/local/lib/python3.10/dist-packages (from sympy->torch>=1.0.0->bert-score) (1.3.0)\n",
            "Downloading bert_score-0.3.13-py3-none-any.whl (61 kB)\n",
            "\u001b[2K   \u001b[90m━━━━━━━━━━━━━━━━━━━━━━━━━━━━━━━━━━━━━━━━\u001b[0m \u001b[32m61.1/61.1 kB\u001b[0m \u001b[31m2.3 MB/s\u001b[0m eta \u001b[36m0:00:00\u001b[0m\n",
            "\u001b[?25hInstalling collected packages: bert-score\n",
            "Successfully installed bert-score-0.3.13\n"
          ]
        },
        {
          "output_type": "stream",
          "name": "stderr",
          "text": [
            "[nltk_data] Downloading package wordnet to /root/nltk_data...\n"
          ]
        }
      ]
    },
    {
      "cell_type": "code",
      "source": [
        "\n",
        "# Carica le user stories dai file (assicurati che i file siano nel tuo ambiente Colab)\n",
        "with open('oracle20.txt', 'r') as f:\n",
        "    llama_stories = [story.strip() for story in f.readlines()]\n",
        "\n",
        "with open('rags20.txt', 'r') as f:\n",
        "    oracle_stories = [story.strip() for story in f.readlines()]\n",
        "\n",
        "# Rimozione degli spazi bianchi iniziali e finali da ogni User Story\n",
        "llama_stories = [story.strip() for story in llama_stories]\n",
        "oracle_stories = [story.strip() for story in oracle_stories]"
      ],
      "metadata": {
        "id": "MxjM7wc1I4yI"
      },
      "execution_count": 30,
      "outputs": []
    },
    {
      "cell_type": "code",
      "source": [
        "#calcola il SENTENCE SCORE\n",
        "\n",
        "\n",
        "# Funzione per calcolare BLEU score con smoothing\n",
        "def calculate_bleu(oracle_stories, llama_stories):\n",
        "    bleu_scores = []\n",
        "    smoothie = SmoothingFunction().method4  # Usa un metodo di smoothing\n",
        "    for ref, cand in zip(oracle_stories, llama_stories):\n",
        "        bleu_scores.append(sentence_bleu([ref.split()], cand.split(), smoothing_function=smoothie))\n",
        "    return sum(bleu_scores) / len(bleu_scores)\n",
        "\n",
        "# Funzione per calcolare ROUGE score per tutte le User Stories\n",
        "def calculate_rouge(oracle_stories, llama_stories):\n",
        "    scorer = rouge_scorer.RougeScorer(['rouge1', 'rouge2', 'rougeL'], use_stemmer=True)\n",
        "    rouge_scores = {'rouge1': [], 'rouge2': [], 'rougeL': []}\n",
        "    for ref, cand in zip(oracle_stories, llama_stories):\n",
        "        scores = scorer.score(ref, cand)\n",
        "        for metric in rouge_scores:\n",
        "            rouge_scores[metric].append(scores[metric].fmeasure)\n",
        "    # Formattazione a 4 cifre decimali\n",
        "    return {metric: round(sum(rouge_scores[metric]) / len(rouge_scores[metric]), 4) for metric in rouge_scores}\n",
        "\n",
        "# Funzione per calcolare METEOR score con tokenizzazione\n",
        "def calculate_meteor(oracle_stories, llama_stories):\n",
        "    meteor_scores = []\n",
        "    for ref, cand in zip(oracle_stories, llama_stories):\n",
        "        meteor_scores.append(meteor_score([ref.split()], cand.split()))\n",
        "    return sum(meteor_scores) / len(meteor_scores)\n",
        "\n",
        "# Funzione per calcolare BERTScore\n",
        "#def calculate_bertscore(oracle_stories, llama_stories):\n",
        " #   P, R, F1 = bert_score(llama_stories, oracle_stories, lang=\"en\", rescale_with_baseline=True)\n",
        "  #  return F1.mean().item()\n",
        "\n",
        "# Calcolo delle metriche\n",
        "bleu = calculate_bleu(oracle_stories, llama_stories)\n",
        "rouge = calculate_rouge(oracle_stories, llama_stories)\n",
        "meteor = calculate_meteor(oracle_stories, llama_stories)\n",
        "#bertscore = calculate_bertscore(oracle_stories, llama_stories)\n",
        "\n",
        "# Stampa dei risultati\n",
        "print(f'BLEU Score medio: {bleu:.4f}')\n",
        "print(f'ROUGE Scores medi: {rouge}')\n",
        "print(f'METEOR Score medio: {meteor:.4f}')\n",
        "#print(f'BERTScore medio: {bertscore:.4f}')"
      ],
      "metadata": {
        "colab": {
          "base_uri": "https://localhost:8080/"
        },
        "id": "kieaECrtJoHZ",
        "outputId": "dbfe5db7-7b14-4a5b-ed0e-29e02adaedbb"
      },
      "execution_count": 31,
      "outputs": [
        {
          "output_type": "stream",
          "name": "stdout",
          "text": [
            "BLEU Score medio: 0.2251\n",
            "ROUGE Scores medi: {'rouge1': 0.3429, 'rouge2': 0.2597, 'rougeL': 0.3253}\n",
            "METEOR Score medio: 0.3140\n"
          ]
        }
      ]
    },
    {
      "cell_type": "code",
      "source": [
        "#calcola il CORPUS SCORE\n",
        "\n",
        "\n",
        "# Funzione per calcolare BLEU score con smoothing considerando tutto il testo come una stringa unica\n",
        "def calculate_bleu(oracle_stories, llama_stories):\n",
        "    smoothie = SmoothingFunction().method4  # Usa un metodo di smoothing\n",
        "    # Unire tutte le frasi in un'unica stringa per ciascun documento\n",
        "    oracle_text = ' '.join(oracle_stories)\n",
        "    llama_text = ' '.join(llama_stories)\n",
        "    # Calcolare il BLEU score considerando l'intero testo\n",
        "    return sentence_bleu([oracle_text.split()], llama_text.split(), smoothing_function=smoothie)\n",
        "\n",
        "# Funzione per calcolare ROUGE score considerando l'intero testo\n",
        "def calculate_rouge(oracle_stories, llama_stories):\n",
        "    # Unire tutte le frasi in un'unica stringa per ciascun documento\n",
        "    oracle_text = ' '.join(oracle_stories)\n",
        "    llama_text = ' '.join(llama_stories)\n",
        "    scorer = rouge_scorer.RougeScorer(['rouge1', 'rouge2', 'rougeL'], use_stemmer=True)\n",
        "    # Calcolare il ROUGE score\n",
        "    scores = scorer.score(oracle_text, llama_text)\n",
        "    # Formattazione a 4 cifre decimali\n",
        "    return {metric: round(scores[metric].fmeasure, 4) for metric in scores}\n",
        "\n",
        "# Funzione per calcolare METEOR score considerando l'intero testo\n",
        "def calculate_meteor(oracle_stories, llama_stories):\n",
        "    # Unire tutte le frasi in un'unica stringa per ciascun documento\n",
        "    oracle_text = ' '.join(oracle_stories)\n",
        "    llama_text = ' '.join(llama_stories)\n",
        "    # Calcolare il METEOR score\n",
        "    return meteor_score([oracle_text.split()], llama_text.split())\n",
        "\n",
        "# Funzione per calcolare BERTScore considerando l'intero testo\n",
        "def calculate_bertscore(oracle_stories, llama_stories):\n",
        "    # Unire tutte le frasi in un'unica stringa per ciascun documento\n",
        "    oracle_text = ' '.join(oracle_stories)\n",
        "    llama_text = ' '.join(llama_stories)\n",
        "    # Calcolare il BERTScore\n",
        "    P, R, F1 = bert_score_calculate([llama_text], [oracle_text], lang=\"en\", rescale_with_baseline=True)\n",
        "    return F1.mean().item()\n",
        "\n",
        "# Calcolo delle metriche\n",
        "bleu = calculate_bleu(oracle_stories, llama_stories)\n",
        "rouge = calculate_rouge(oracle_stories, llama_stories)\n",
        "meteor = calculate_meteor(oracle_stories, llama_stories)\n",
        "bertscore = calculate_bertscore(oracle_stories, llama_stories)\n",
        "\n",
        "# Stampa dei risultati\n",
        "print(f'BLEU Score medio: {bleu:.4f}')\n",
        "print(f'ROUGE Scores medi: {rouge}')\n",
        "print(f'METEOR Score medio: {meteor:.4f}')\n",
        "print(f'BERTScore medio: {bertscore:.4f}')"
      ],
      "metadata": {
        "id": "vTb3GNkydo_w",
        "outputId": "9a86e90e-ec4d-4a50-9822-8ba92fb09b2f",
        "colab": {
          "base_uri": "https://localhost:8080/"
        }
      },
      "execution_count": 32,
      "outputs": [
        {
          "output_type": "stream",
          "name": "stderr",
          "text": [
            "/usr/local/lib/python3.10/dist-packages/transformers/tokenization_utils_base.py:1601: FutureWarning: `clean_up_tokenization_spaces` was not set. It will be set to `True` by default. This behavior will be depracted in transformers v4.45, and will be then set to `False` by default. For more details check this issue: https://github.com/huggingface/transformers/issues/31884\n",
            "  warnings.warn(\n",
            "Some weights of RobertaModel were not initialized from the model checkpoint at roberta-large and are newly initialized: ['roberta.pooler.dense.bias', 'roberta.pooler.dense.weight']\n",
            "You should probably TRAIN this model on a down-stream task to be able to use it for predictions and inference.\n"
          ]
        },
        {
          "output_type": "stream",
          "name": "stdout",
          "text": [
            "BLEU Score medio: 0.5288\n",
            "ROUGE Scores medi: {'rouge1': 0.8049, 'rouge2': 0.6099, 'rougeL': 0.6938}\n",
            "METEOR Score medio: 0.6619\n",
            "BERTScore medio: 0.6486\n"
          ]
        }
      ]
    }
  ]
}