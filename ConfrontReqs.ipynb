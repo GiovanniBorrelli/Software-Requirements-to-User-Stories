{
  "nbformat": 4,
  "nbformat_minor": 0,
  "metadata": {
    "colab": {
      "provenance": [],
      "authorship_tag": "ABX9TyPnW0FFhqacfb0yRJVuZblx",
      "include_colab_link": true
    },
    "kernelspec": {
      "name": "python3",
      "display_name": "Python 3"
    },
    "language_info": {
      "name": "python"
    }
  },
  "cells": [
    {
      "cell_type": "markdown",
      "metadata": {
        "id": "view-in-github",
        "colab_type": "text"
      },
      "source": [
        "<a href=\"https://colab.research.google.com/github/GiovanniBorrelli/Software-Requirements-to-User-Stories/blob/main/ConfrontReqs.ipynb\" target=\"_parent\"><img src=\"https://colab.research.google.com/assets/colab-badge.svg\" alt=\"Open In Colab\"/></a>"
      ]
    },
    {
      "cell_type": "code",
      "source": [
        "!pip install nltk rouge-score\n",
        "!pip install bert-score\n",
        "\n",
        "import nltk\n",
        "nltk.download('wordnet')\n",
        "\n",
        "import numpy as np\n",
        "from rouge_score import rouge_scorer\n",
        "from nltk.translate.bleu_score import sentence_bleu, SmoothingFunction\n",
        "from nltk.translate.meteor_score import meteor_score\n",
        "from sklearn.feature_extraction.text import TfidfVectorizer\n",
        "from bert_score import score as bert_score"
      ],
      "metadata": {
        "colab": {
          "base_uri": "https://localhost:8080/"
        },
        "id": "o96boYICFo9-",
        "outputId": "f006b55e-b4d5-4ba6-9176-9cfb8bea7f14"
      },
      "execution_count": null,
      "outputs": [
        {
          "output_type": "stream",
          "name": "stdout",
          "text": [
            "Requirement already satisfied: nltk in /usr/local/lib/python3.10/dist-packages (3.8.1)\n",
            "Collecting rouge-score\n",
            "  Downloading rouge_score-0.1.2.tar.gz (17 kB)\n",
            "  Preparing metadata (setup.py) ... \u001b[?25l\u001b[?25hdone\n",
            "Requirement already satisfied: click in /usr/local/lib/python3.10/dist-packages (from nltk) (8.1.7)\n",
            "Requirement already satisfied: joblib in /usr/local/lib/python3.10/dist-packages (from nltk) (1.4.2)\n",
            "Requirement already satisfied: regex>=2021.8.3 in /usr/local/lib/python3.10/dist-packages (from nltk) (2024.5.15)\n",
            "Requirement already satisfied: tqdm in /usr/local/lib/python3.10/dist-packages (from nltk) (4.66.5)\n",
            "Requirement already satisfied: absl-py in /usr/local/lib/python3.10/dist-packages (from rouge-score) (1.4.0)\n",
            "Requirement already satisfied: numpy in /usr/local/lib/python3.10/dist-packages (from rouge-score) (1.26.4)\n",
            "Requirement already satisfied: six>=1.14.0 in /usr/local/lib/python3.10/dist-packages (from rouge-score) (1.16.0)\n",
            "Building wheels for collected packages: rouge-score\n",
            "  Building wheel for rouge-score (setup.py) ... \u001b[?25l\u001b[?25hdone\n",
            "  Created wheel for rouge-score: filename=rouge_score-0.1.2-py3-none-any.whl size=24935 sha256=2c61b91889281fbdac088c575ceda2ff04ddb2d7076c4ec072ed1c8746832f6b\n",
            "  Stored in directory: /root/.cache/pip/wheels/5f/dd/89/461065a73be61a532ff8599a28e9beef17985c9e9c31e541b4\n",
            "Successfully built rouge-score\n",
            "Installing collected packages: rouge-score\n",
            "Successfully installed rouge-score-0.1.2\n"
          ]
        },
        {
          "output_type": "stream",
          "name": "stderr",
          "text": [
            "[nltk_data] Downloading package wordnet to /root/nltk_data...\n"
          ]
        }
      ]
    },
    {
      "cell_type": "code",
      "source": [
        "# Carica le user stories dai file (assicurati che i file siano nel tuo ambiente Colab)\n",
        "with open('llama_chainofthoughts_reduced10.txt', 'r') as f:\n",
        "    llama_stories = [story.strip() for story in f.readlines()]\n",
        "\n",
        "with open('gpt_zeroshot_red10cot.txt', 'r') as f:\n",
        "    oracle_stories = [story.strip() for story in f.readlines()]\n",
        "\n",
        "# Rimozione degli spazi bianchi iniziali e finali da ogni User Story\n",
        "llama_stories = [story.strip() for story in llama_stories]\n",
        "oracle_stories = [story.strip() for story in oracle_stories]"
      ],
      "metadata": {
        "id": "MxjM7wc1I4yI"
      },
      "execution_count": null,
      "outputs": []
    },
    {
      "cell_type": "code",
      "source": [
        "# Funzione per calcolare BLEU score con smoothing\n",
        "def calculate_bleu(oracle_stories, llama_stories):\n",
        "    bleu_scores = []\n",
        "    smoothie = SmoothingFunction().method4  # Usa un metodo di smoothing\n",
        "    for ref, cand in zip(oracle_stories, llama_stories):\n",
        "        bleu_scores.append(sentence_bleu([ref.split()], cand.split(), smoothing_function=smoothie))\n",
        "    return sum(bleu_scores) / len(bleu_scores)\n",
        "\n",
        "# Funzione per calcolare ROUGE score per tutte le User Stories\n",
        "def calculate_rouge(oracle_stories, llama_stories):\n",
        "    scorer = rouge_scorer.RougeScorer(['rouge1', 'rouge2', 'rougeL'], use_stemmer=True)\n",
        "    rouge_scores = {'rouge1': [], 'rouge2': [], 'rougeL': []}\n",
        "    for ref, cand in zip(oracle_stories, llama_stories):\n",
        "        scores = scorer.score(ref, cand)\n",
        "        for metric in rouge_scores:\n",
        "            rouge_scores[metric].append(scores[metric].fmeasure)\n",
        "    # Formattazione a 4 cifre decimali\n",
        "    return {metric: round(sum(rouge_scores[metric]) / len(rouge_scores[metric]), 4) for metric in rouge_scores}\n",
        "\n",
        "# Funzione per calcolare METEOR score con tokenizzazione\n",
        "def calculate_meteor(oracle_stories, llama_stories):\n",
        "    meteor_scores = []\n",
        "    for ref, cand in zip(oracle_stories, llama_stories):\n",
        "        meteor_scores.append(meteor_score([ref.split()], cand.split()))\n",
        "    return sum(meteor_scores) / len(meteor_scores)\n",
        "\n",
        "# Funzione per calcolare BERTScore\n",
        "def calculate_bertscore(oracle_stories, llama_stories):\n",
        "    P, R, F1 = bert_score(llama_stories, oracle_stories, lang=\"en\", rescale_with_baseline=True)\n",
        "    return F1.mean().item()\n",
        "\n",
        "# Calcolo delle metriche\n",
        "bleu = calculate_bleu(oracle_stories, llama_stories)\n",
        "rouge = calculate_rouge(oracle_stories, llama_stories)\n",
        "meteor = calculate_meteor(oracle_stories, llama_stories)\n",
        "bertscore = calculate_bertscore(oracle_stories, llama_stories)\n",
        "\n",
        "# Stampa dei risultati\n",
        "print(f'BLEU Score medio: {bleu:.4f}')\n",
        "print(f'ROUGE Scores medi: {rouge}')\n",
        "print(f'METEOR Score medio: {meteor:.4f}')\n",
        "print(f'BERTScore medio: {bertscore:.4f}')"
      ],
      "metadata": {
        "colab": {
          "base_uri": "https://localhost:8080/"
        },
        "id": "kieaECrtJoHZ",
        "outputId": "f25110a8-c401-4a7e-c789-6caf4093b65a"
      },
      "execution_count": null,
      "outputs": [
        {
          "output_type": "stream",
          "name": "stderr",
          "text": [
            "Some weights of RobertaModel were not initialized from the model checkpoint at roberta-large and are newly initialized: ['roberta.pooler.dense.bias', 'roberta.pooler.dense.weight']\n",
            "You should probably TRAIN this model on a down-stream task to be able to use it for predictions and inference.\n"
          ]
        },
        {
          "output_type": "stream",
          "name": "stdout",
          "text": [
            "BLEU Score medio: 0.1879\n",
            "ROUGE Scores medi: {'rouge1': 0.7045, 'rouge2': 0.4241, 'rougeL': 0.5589}\n",
            "METEOR Score medio: 0.5157\n",
            "BERTScore medio: 0.6261\n"
          ]
        }
      ]
    }
  ]
}