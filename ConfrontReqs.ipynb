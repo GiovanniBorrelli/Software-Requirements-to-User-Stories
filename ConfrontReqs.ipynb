{
  "nbformat": 4,
  "nbformat_minor": 0,
  "metadata": {
    "colab": {
      "provenance": [],
      "authorship_tag": "ABX9TyPkkLK1FG/N3neRrn0fL1q2",
      "include_colab_link": true
    },
    "kernelspec": {
      "name": "python3",
      "display_name": "Python 3"
    },
    "language_info": {
      "name": "python"
    }
  },
  "cells": [
    {
      "cell_type": "markdown",
      "metadata": {
        "id": "view-in-github",
        "colab_type": "text"
      },
      "source": [
        "<a href=\"https://colab.research.google.com/github/GiovanniBorrelli/Software-Requirements-to-User-Stories/blob/main/ConfrontReqs.ipynb\" target=\"_parent\"><img src=\"https://colab.research.google.com/assets/colab-badge.svg\" alt=\"Open In Colab\"/></a>"
      ]
    },
    {
      "cell_type": "code",
      "source": [
        "!pip install nltk rouge-score\n",
        "\n",
        "# Importazione delle librerie necessarie\n",
        "import numpy as np\n",
        "from rouge_score import rouge_scorer\n",
        "from nltk.translate.bleu_score import sentence_bleu, SmoothingFunction\n",
        "from nltk.translate.meteor_score import meteor_score\n",
        "from sklearn.feature_extraction.text import TfidfVectorizer\n",
        "from sklearn.metrics.pairwise import cosine_similarity"
      ],
      "metadata": {
        "colab": {
          "base_uri": "https://localhost:8080/"
        },
        "id": "o96boYICFo9-",
        "outputId": "2a686dff-28be-4f10-ae6b-fb813b2c1fd7"
      },
      "execution_count": 25,
      "outputs": [
        {
          "output_type": "stream",
          "name": "stdout",
          "text": [
            "\u001b[31mERROR: Could not find a version that satisfies the requirement bleurt (from versions: none)\u001b[0m\u001b[31m\n",
            "\u001b[0m\u001b[31mERROR: No matching distribution found for bleurt\u001b[0m\u001b[31m\n",
            "\u001b[0mRequirement already satisfied: nltk in /usr/local/lib/python3.10/dist-packages (3.8.1)\n",
            "Requirement already satisfied: rouge-score in /usr/local/lib/python3.10/dist-packages (0.1.2)\n",
            "Requirement already satisfied: bert-score in /usr/local/lib/python3.10/dist-packages (0.3.13)\n",
            "Requirement already satisfied: click in /usr/local/lib/python3.10/dist-packages (from nltk) (8.1.7)\n",
            "Requirement already satisfied: joblib in /usr/local/lib/python3.10/dist-packages (from nltk) (1.4.2)\n",
            "Requirement already satisfied: regex>=2021.8.3 in /usr/local/lib/python3.10/dist-packages (from nltk) (2024.5.15)\n",
            "Requirement already satisfied: tqdm in /usr/local/lib/python3.10/dist-packages (from nltk) (4.66.5)\n",
            "Requirement already satisfied: absl-py in /usr/local/lib/python3.10/dist-packages (from rouge-score) (1.4.0)\n",
            "Requirement already satisfied: numpy in /usr/local/lib/python3.10/dist-packages (from rouge-score) (1.26.4)\n",
            "Requirement already satisfied: six>=1.14.0 in /usr/local/lib/python3.10/dist-packages (from rouge-score) (1.16.0)\n",
            "Requirement already satisfied: torch>=1.0.0 in /usr/local/lib/python3.10/dist-packages (from bert-score) (2.4.0+cu121)\n",
            "Requirement already satisfied: pandas>=1.0.1 in /usr/local/lib/python3.10/dist-packages (from bert-score) (2.1.4)\n",
            "Requirement already satisfied: transformers>=3.0.0 in /usr/local/lib/python3.10/dist-packages (from bert-score) (4.42.4)\n",
            "Requirement already satisfied: requests in /usr/local/lib/python3.10/dist-packages (from bert-score) (2.32.3)\n",
            "Requirement already satisfied: matplotlib in /usr/local/lib/python3.10/dist-packages (from bert-score) (3.7.1)\n",
            "Requirement already satisfied: packaging>=20.9 in /usr/local/lib/python3.10/dist-packages (from bert-score) (24.1)\n",
            "Requirement already satisfied: python-dateutil>=2.8.2 in /usr/local/lib/python3.10/dist-packages (from pandas>=1.0.1->bert-score) (2.8.2)\n",
            "Requirement already satisfied: pytz>=2020.1 in /usr/local/lib/python3.10/dist-packages (from pandas>=1.0.1->bert-score) (2024.1)\n",
            "Requirement already satisfied: tzdata>=2022.1 in /usr/local/lib/python3.10/dist-packages (from pandas>=1.0.1->bert-score) (2024.1)\n",
            "Requirement already satisfied: filelock in /usr/local/lib/python3.10/dist-packages (from torch>=1.0.0->bert-score) (3.15.4)\n",
            "Requirement already satisfied: typing-extensions>=4.8.0 in /usr/local/lib/python3.10/dist-packages (from torch>=1.0.0->bert-score) (4.12.2)\n",
            "Requirement already satisfied: sympy in /usr/local/lib/python3.10/dist-packages (from torch>=1.0.0->bert-score) (1.13.2)\n",
            "Requirement already satisfied: networkx in /usr/local/lib/python3.10/dist-packages (from torch>=1.0.0->bert-score) (3.3)\n",
            "Requirement already satisfied: jinja2 in /usr/local/lib/python3.10/dist-packages (from torch>=1.0.0->bert-score) (3.1.4)\n",
            "Requirement already satisfied: fsspec in /usr/local/lib/python3.10/dist-packages (from torch>=1.0.0->bert-score) (2024.6.1)\n",
            "Requirement already satisfied: huggingface-hub<1.0,>=0.23.2 in /usr/local/lib/python3.10/dist-packages (from transformers>=3.0.0->bert-score) (0.23.5)\n",
            "Requirement already satisfied: pyyaml>=5.1 in /usr/local/lib/python3.10/dist-packages (from transformers>=3.0.0->bert-score) (6.0.2)\n",
            "Requirement already satisfied: safetensors>=0.4.1 in /usr/local/lib/python3.10/dist-packages (from transformers>=3.0.0->bert-score) (0.4.4)\n",
            "Requirement already satisfied: tokenizers<0.20,>=0.19 in /usr/local/lib/python3.10/dist-packages (from transformers>=3.0.0->bert-score) (0.19.1)\n",
            "Requirement already satisfied: contourpy>=1.0.1 in /usr/local/lib/python3.10/dist-packages (from matplotlib->bert-score) (1.2.1)\n",
            "Requirement already satisfied: cycler>=0.10 in /usr/local/lib/python3.10/dist-packages (from matplotlib->bert-score) (0.12.1)\n",
            "Requirement already satisfied: fonttools>=4.22.0 in /usr/local/lib/python3.10/dist-packages (from matplotlib->bert-score) (4.53.1)\n",
            "Requirement already satisfied: kiwisolver>=1.0.1 in /usr/local/lib/python3.10/dist-packages (from matplotlib->bert-score) (1.4.5)\n",
            "Requirement already satisfied: pillow>=6.2.0 in /usr/local/lib/python3.10/dist-packages (from matplotlib->bert-score) (9.4.0)\n",
            "Requirement already satisfied: pyparsing>=2.3.1 in /usr/local/lib/python3.10/dist-packages (from matplotlib->bert-score) (3.1.4)\n",
            "Requirement already satisfied: charset-normalizer<4,>=2 in /usr/local/lib/python3.10/dist-packages (from requests->bert-score) (3.3.2)\n",
            "Requirement already satisfied: idna<4,>=2.5 in /usr/local/lib/python3.10/dist-packages (from requests->bert-score) (3.8)\n",
            "Requirement already satisfied: urllib3<3,>=1.21.1 in /usr/local/lib/python3.10/dist-packages (from requests->bert-score) (2.0.7)\n",
            "Requirement already satisfied: certifi>=2017.4.17 in /usr/local/lib/python3.10/dist-packages (from requests->bert-score) (2024.7.4)\n",
            "Requirement already satisfied: MarkupSafe>=2.0 in /usr/local/lib/python3.10/dist-packages (from jinja2->torch>=1.0.0->bert-score) (2.1.5)\n",
            "Requirement already satisfied: mpmath<1.4,>=1.1.0 in /usr/local/lib/python3.10/dist-packages (from sympy->torch>=1.0.0->bert-score) (1.3.0)\n"
          ]
        }
      ]
    },
    {
      "cell_type": "code",
      "source": [
        "# Carica le user stories dai file (assicurati che i file siano nel tuo ambiente Colab)\n",
        "with open('llama_chainofthoughts.txt', 'r') as f:\n",
        "    llama_stories = [story.strip() for story in f.readlines()]\n",
        "\n",
        "with open('chatgpt_zeroshot.txt', 'r') as f:\n",
        "    oracle_stories = [story.strip() for story in f.readlines()]\n",
        "\n",
        "# Rimozione degli spazi bianchi iniziali e finali da ogni User Story\n",
        "llama_stories = [story.strip() for story in llama_stories]\n",
        "oracle_stories = [story.strip() for story in oracle_stories]"
      ],
      "metadata": {
        "id": "MxjM7wc1I4yI"
      },
      "execution_count": 32,
      "outputs": []
    },
    {
      "cell_type": "code",
      "source": [
        "# Funzione per calcolare BLEU score con smoothing\n",
        "def calculate_bleu(oracle_stories, llama_stories):\n",
        "    bleu_scores = []\n",
        "    smoothie = SmoothingFunction().method4  # Usa un metodo di smoothing\n",
        "    for ref, cand in zip(oracle_stories, llama_stories):\n",
        "        bleu_scores.append(sentence_bleu([ref.split()], cand.split(), smoothing_function=smoothie))\n",
        "    return sum(bleu_scores) / len(bleu_scores)\n",
        "\n",
        "# Funzione per calcolare ROUGE score per tutte le User Stories\n",
        "def calculate_rouge(oracle_stories, llama_stories):\n",
        "    scorer = rouge_scorer.RougeScorer(['rouge1', 'rouge2', 'rougeL'], use_stemmer=True)\n",
        "    rouge_scores = {'rouge1': [], 'rouge2': [], 'rougeL': []}\n",
        "    for ref, cand in zip(oracle_stories, llama_stories):\n",
        "        scores = scorer.score(ref, cand)\n",
        "        for metric in rouge_scores:\n",
        "            rouge_scores[metric].append(scores[metric].fmeasure)\n",
        "    return {metric: sum(rouge_scores[metric]) / len(rouge_scores[metric]) for metric in rouge_scores}\n",
        "\n",
        "# Funzione per calcolare METEOR score con tokenizzazione\n",
        "def calculate_meteor(oracle_stories, llama_stories):\n",
        "    meteor_scores = []\n",
        "    for ref, cand in zip(oracle_stories, llama_stories):\n",
        "        meteor_scores.append(meteor_score([ref.split()], cand.split()))\n",
        "    return sum(meteor_scores) / len(meteor_scores)\n",
        "\n",
        "# Funzione per calcolare Cosine Similarity\n",
        "def calculate_cosine_similarity(oracle_stories, llama_stories):\n",
        "    vectorizer = TfidfVectorizer().fit(oracle_stories + llama_stories)\n",
        "    ref_vectors = vectorizer.transform(oracle_stories)\n",
        "    gen_vectors = vectorizer.transform(llama_stories)\n",
        "    similarity_matrix = cosine_similarity(gen_vectors, ref_vectors)\n",
        "    return np.mean(np.max(similarity_matrix, axis=1))\n",
        "\n",
        "# Funzione per calcolare F1 Score\n",
        "def calculate_f1(oracle_stories, llama_stories):\n",
        "    from sklearn.metrics import f1_score\n",
        "    f1_scores = []\n",
        "    for ref, cand in zip(oracle_stories, llama_stories):\n",
        "        # Converti i testi in etichette binarie\n",
        "        ref_tokens = set(ref.split())\n",
        "        cand_tokens = set(cand.split())\n",
        "        all_tokens = list(ref_tokens.union(cand_tokens))\n",
        "        ref_vector = [1 if token in ref_tokens else 0 for token in all_tokens]\n",
        "        cand_vector = [1 if token in cand_tokens else 0 for token in all_tokens]\n",
        "        f1_scores.append(f1_score(ref_vector, cand_vector))\n",
        "    return np.mean(f1_scores)\n",
        "\n",
        "# Calcolo delle metriche\n",
        "bleu = calculate_bleu(oracle_stories, llama_stories)\n",
        "rouge = calculate_rouge(oracle_stories, llama_stories)\n",
        "meteor = calculate_meteor(oracle_stories, llama_stories)\n",
        "cosine_sim = calculate_cosine_similarity(oracle_stories, llama_stories)\n",
        "f1 = calculate_f1(oracle_stories, llama_stories)\n",
        "\n",
        "# Stampa dei risultati\n",
        "print(f'BLEU Score medio: {bleu:.4f}')\n",
        "print(f'ROUGE Scores medi: {rouge}')\n",
        "print(f'METEOR Score medio: {meteor:.4f}')\n",
        "print(f'Cosine Similarity: {cosine_sim:.4f}')\n",
        "print(f'F1 Score medio: {f1:.4f}')"
      ],
      "metadata": {
        "colab": {
          "base_uri": "https://localhost:8080/"
        },
        "id": "kieaECrtJoHZ",
        "outputId": "3a09e7c8-8163-4be1-8afa-c076fff9951a"
      },
      "execution_count": 33,
      "outputs": [
        {
          "output_type": "stream",
          "name": "stdout",
          "text": [
            "BLEU Score medio: 0.0526\n",
            "ROUGE Scores medi: {'rouge1': 0.3551544977355014, 'rouge2': 0.13139203099503366, 'rougeL': 0.30121539508608686}\n",
            "METEOR Score medio: 0.2449\n",
            "Cosine Similarity: 0.5648\n",
            "F1 Score medio: 0.3221\n"
          ]
        }
      ]
    }
  ]
}