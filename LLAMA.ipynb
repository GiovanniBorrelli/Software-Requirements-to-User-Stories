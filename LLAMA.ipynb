{
  "nbformat": 4,
  "nbformat_minor": 0,
  "metadata": {
    "colab": {
      "provenance": [],
      "gpuType": "T4",
      "include_colab_link": true
    },
    "kernelspec": {
      "name": "python3",
      "display_name": "Python 3"
    },
    "language_info": {
      "name": "python"
    },
    "accelerator": "GPU"
  },
  "cells": [
    {
      "cell_type": "markdown",
      "metadata": {
        "id": "view-in-github",
        "colab_type": "text"
      },
      "source": [
        "<a href=\"https://colab.research.google.com/github/GiovanniBorrelli/Software-Requirements-to-User-Stories/blob/main/LLAMA.ipynb\" target=\"_parent\"><img src=\"https://colab.research.google.com/assets/colab-badge.svg\" alt=\"Open In Colab\"/></a>"
      ]
    },
    {
      "cell_type": "code",
      "source": [
        "!sudo apt-get install -y pciutils\n",
        "!curl -fsSL https://ollama.com/install.sh | sh # download ollama api\n",
        "from IPython.display import clear_output\n",
        "\n",
        "# Create a Python script to start the Ollama API server in a separate thread\n",
        "\n",
        "import os\n",
        "import threading\n",
        "import subprocess\n",
        "import requests\n",
        "import json\n",
        "\n",
        "def ollama():\n",
        "    os.environ['OLLAMA_HOST'] = '0.0.0.0:11434'\n",
        "    os.environ['OLLAMA_ORIGINS'] = '*'\n",
        "    subprocess.Popen([\"ollama\", \"serve\"])\n",
        "\n",
        "ollama_thread = threading.Thread(target=ollama)\n",
        "ollama_thread.start()\n",
        "\n",
        "from IPython.display import clear_output\n",
        "!ollama pull llama3.1:8b\n",
        "clear_output()\n",
        "\n",
        "!pip install -U lightrag[ollama]\n",
        "\n",
        "from lightrag.core.generator import Generator\n",
        "from lightrag.core.component import Component\n",
        "from lightrag.core.model_client import ModelClient\n",
        "from lightrag.components.model_client import OllamaClient, GroqAPIClient\n",
        "\n",
        "import time\n",
        "\n",
        "qa_template = r\"\"\"<SYS>\n",
        "You are a helpful assistant.\n",
        "</SYS>\n",
        "User: {{input_str}}\n",
        "You:\"\"\"\n",
        "\n",
        "class SimpleQA(Component):\n",
        "    def __init__(self, model_client: ModelClient, model_kwargs: dict):\n",
        "        super().__init__()\n",
        "        self.generator = Generator(\n",
        "            model_client=model_client,\n",
        "            model_kwargs=model_kwargs,\n",
        "            template=qa_template,\n",
        "        )\n",
        "\n",
        "    def call(self, input: dict) -> str:\n",
        "        return self.generator.call({\"input_str\": str(input)})\n",
        "\n",
        "    async def acall(self, input: dict) -> str:\n",
        "        return await self.generator.acall({\"input_str\": str(input)})\n",
        "\n",
        "from lightrag.components.model_client import OllamaClient\n",
        "from IPython.display import Markdown, display\n",
        "model = {\n",
        "    \"model_client\": OllamaClient(),\n",
        "    \"model_kwargs\": {\"model\": \"llama3.1:8b\"}\n",
        "}\n",
        "qa = SimpleQA(**model)"
      ],
      "metadata": {
        "colab": {
          "base_uri": "https://localhost:8080/"
        },
        "id": "BtDFlXhqFkQH",
        "outputId": "f15a1bdc-6999-4bf0-8d01-4a254e273b84"
      },
      "execution_count": null,
      "outputs": [
        {
          "output_type": "stream",
          "name": "stdout",
          "text": [
            "Requirement already satisfied: lightrag[ollama] in /usr/local/lib/python3.10/dist-packages (0.1.0b6)\n",
            "Requirement already satisfied: backoff<3.0.0,>=2.2.1 in /usr/local/lib/python3.10/dist-packages (from lightrag[ollama]) (2.2.1)\n",
            "Requirement already satisfied: jinja2<4.0.0,>=3.1.3 in /usr/local/lib/python3.10/dist-packages (from lightrag[ollama]) (3.1.4)\n",
            "Requirement already satisfied: jsonlines<5.0.0,>=4.0.0 in /usr/local/lib/python3.10/dist-packages (from lightrag[ollama]) (4.0.0)\n",
            "Requirement already satisfied: nest-asyncio<2.0.0,>=1.6.0 in /usr/local/lib/python3.10/dist-packages (from lightrag[ollama]) (1.6.0)\n",
            "Requirement already satisfied: numpy<2.0.0,>=1.26.4 in /usr/local/lib/python3.10/dist-packages (from lightrag[ollama]) (1.26.4)\n",
            "Requirement already satisfied: python-dotenv<2.0.0,>=1.0.1 in /usr/local/lib/python3.10/dist-packages (from lightrag[ollama]) (1.0.1)\n",
            "Requirement already satisfied: pyyaml<7.0.0,>=6.0.1 in /usr/local/lib/python3.10/dist-packages (from lightrag[ollama]) (6.0.2)\n",
            "Requirement already satisfied: tiktoken<0.8.0,>=0.7.0 in /usr/local/lib/python3.10/dist-packages (from lightrag[ollama]) (0.7.0)\n",
            "Requirement already satisfied: tqdm<5.0.0,>=4.66.4 in /usr/local/lib/python3.10/dist-packages (from lightrag[ollama]) (4.66.5)\n",
            "Requirement already satisfied: ollama<0.3.0,>=0.2.1 in /usr/local/lib/python3.10/dist-packages (from lightrag[ollama]) (0.2.1)\n",
            "Requirement already satisfied: MarkupSafe>=2.0 in /usr/local/lib/python3.10/dist-packages (from jinja2<4.0.0,>=3.1.3->lightrag[ollama]) (2.1.5)\n",
            "Requirement already satisfied: attrs>=19.2.0 in /usr/local/lib/python3.10/dist-packages (from jsonlines<5.0.0,>=4.0.0->lightrag[ollama]) (24.2.0)\n",
            "Requirement already satisfied: httpx<0.28.0,>=0.27.0 in /usr/local/lib/python3.10/dist-packages (from ollama<0.3.0,>=0.2.1->lightrag[ollama]) (0.27.2)\n",
            "Requirement already satisfied: regex>=2022.1.18 in /usr/local/lib/python3.10/dist-packages (from tiktoken<0.8.0,>=0.7.0->lightrag[ollama]) (2024.5.15)\n",
            "Requirement already satisfied: requests>=2.26.0 in /usr/local/lib/python3.10/dist-packages (from tiktoken<0.8.0,>=0.7.0->lightrag[ollama]) (2.32.3)\n",
            "Requirement already satisfied: anyio in /usr/local/lib/python3.10/dist-packages (from httpx<0.28.0,>=0.27.0->ollama<0.3.0,>=0.2.1->lightrag[ollama]) (3.7.1)\n",
            "Requirement already satisfied: certifi in /usr/local/lib/python3.10/dist-packages (from httpx<0.28.0,>=0.27.0->ollama<0.3.0,>=0.2.1->lightrag[ollama]) (2024.7.4)\n",
            "Requirement already satisfied: httpcore==1.* in /usr/local/lib/python3.10/dist-packages (from httpx<0.28.0,>=0.27.0->ollama<0.3.0,>=0.2.1->lightrag[ollama]) (1.0.5)\n",
            "Requirement already satisfied: idna in /usr/local/lib/python3.10/dist-packages (from httpx<0.28.0,>=0.27.0->ollama<0.3.0,>=0.2.1->lightrag[ollama]) (3.8)\n",
            "Requirement already satisfied: sniffio in /usr/local/lib/python3.10/dist-packages (from httpx<0.28.0,>=0.27.0->ollama<0.3.0,>=0.2.1->lightrag[ollama]) (1.3.1)\n",
            "Requirement already satisfied: h11<0.15,>=0.13 in /usr/local/lib/python3.10/dist-packages (from httpcore==1.*->httpx<0.28.0,>=0.27.0->ollama<0.3.0,>=0.2.1->lightrag[ollama]) (0.14.0)\n",
            "Requirement already satisfied: charset-normalizer<4,>=2 in /usr/local/lib/python3.10/dist-packages (from requests>=2.26.0->tiktoken<0.8.0,>=0.7.0->lightrag[ollama]) (3.3.2)\n",
            "Requirement already satisfied: urllib3<3,>=1.21.1 in /usr/local/lib/python3.10/dist-packages (from requests>=2.26.0->tiktoken<0.8.0,>=0.7.0->lightrag[ollama]) (2.0.7)\n",
            "Requirement already satisfied: exceptiongroup in /usr/local/lib/python3.10/dist-packages (from anyio->httpx<0.28.0,>=0.27.0->ollama<0.3.0,>=0.2.1->lightrag[ollama]) (1.2.2)\n"
          ]
        }
      ]
    },
    {
      "cell_type": "code",
      "source": [
        "output=qa(\"\"\"Make USER STORIES from the software requirements below.  these requirements designed to meet specific standards or guidelines in healthcare informatics, such as those from the HITSP (Health IT Standards Panel), IHE (Integrating the Healthcare Enterprise), and align with HIPAA (Health Insurance Portability and Accountability Act) regulations for protecting patient health information.\n",
        "MAKE A LIST OF ALL USER STORIES! DONT JUST TELL ME THE KEY AREAS. DO IT, EVEN IF THE USER STORIES ARE MORE THAN 50!\n",
        "Requirements:The system shall create and maintain a single patient record for each patient, storing key identifier information (e.g., system ID, medical record number) with the ability to store multiple identifiers.\n",
        "The system shall provide the ability to merge duplicate patient records into a single patient record.\n",
        "The system shall capture and maintain demographic information, including historic data (e.g., prior names, addresses), with the ability to modify and access this information as discrete data elements for patient care and reporting functions.\n",
        "The system shall allow querying for a patient using multiple forms of identification.\n",
        "The system shall capture and maintain the identity of all providers involved in a patient's care, including the principal provider.\n",
        "The system shall maintain a coded list of problems or diagnoses, capturing details such as onset date, resolution date, chronicity, and any associated orders or medications, with the ability to update, display, and document changes.\n",
        "The system shall capture and display free text comments associated with problems or diagnoses.\n",
        "The system shall maintain and display a medication list for each patient, including prescribing details, medication history, and dates (ordering, start, modify, renewal, and end). The system shall support uncoded or free text medications and document changes.\n",
        "The system shall provide the ability to manage a patient-specific medication list, including current medications, with functionality to exclude or print medications and document that a patient takes no medications.\n",
        "The system shall capture and maintain an allergy and adverse reaction list, including user modifications, the type of reaction, and an indication of whether the list was reviewed. It shall also indicate if the patient has no known drug allergies or adverse reactions.\n",
        "The system shall store, display, and manage comprehensive patient history, including medication and allergy information as discrete data elements.\n",
        "The system shall capture, update, and display patient history, including structured, coded, and free text data, with the ability to record the presence and absence of conditions and capture history from external sources.\n",
        "The system shall provide the ability to manage clinical documentation, including saving notes in progress, finalizing, cosigning, addending, and correcting notes. The system shall track and display the identity of users making changes and the date/time of those changes.\n",
        "The system shall allow filtering, searching, and ordering of notes by provider or associated diagnosis, with the ability to enter free text notes and customize templates for structured data input.\n",
        "The system shall capture and manage patient vital signs and other clinical data elements as discrete data, displaying measurements in both metric and English units, and indicating when values fall outside preset normal ranges. The system shall graph and calculate metrics like BMI over time.\n",
        "\n",
        " \"\"\")\n",
        "display(Markdown(f\"**Answer:** {output.data}\"))"
      ],
      "metadata": {
        "colab": {
          "base_uri": "https://localhost:8080/",
          "height": 1000
        },
        "id": "9qBL7GouFy4e",
        "outputId": "27c68b32-4b3f-4d31-f5e3-dac01a14f051"
      },
      "execution_count": null,
      "outputs": [
        {
          "output_type": "display_data",
          "data": {
            "text/plain": [
              "<IPython.core.display.Markdown object>"
            ],
            "text/markdown": "**Answer:** Here are the USER STORIES based on the software requirements:\n\n**Patient Management**\n\n1. As a healthcare provider, I want to create and maintain a single patient record for each patient, so that I can easily access and update patient information.\n2. As a healthcare provider, I want the system to provide the ability to merge duplicate patient records into a single patient record, so that I can ensure accurate patient data.\n3. As a healthcare provider, I want to capture and maintain demographic information for each patient, including historic data such as prior names and addresses, so that I can access this information for patient care and reporting functions.\n4. As a healthcare provider, I want the system to allow querying for a patient using multiple forms of identification, so that I can quickly find patient records.\n\n**Provider Management**\n\n5. As a healthcare provider, I want to capture and maintain the identity of all providers involved in a patient's care, including the principal provider, so that I can track who has been caring for each patient.\n6. As a healthcare provider, I want the system to display the list of providers associated with each patient record.\n\n**Problem and Diagnosis Management**\n\n7. As a healthcare provider, I want the system to maintain a coded list of problems or diagnoses for each patient, including details such as onset date, resolution date, chronicity, and any associated orders or medications.\n8. As a healthcare provider, I want to capture and display free text comments associated with problems or diagnoses, so that I can document additional information about each condition.\n9. As a healthcare provider, I want the system to update, display, and document changes to patient problems or diagnoses.\n\n**Medication Management**\n\n10. As a healthcare provider, I want the system to maintain and display a medication list for each patient, including prescribing details, medication history, and dates (ordering, start, modify, renewal, and end).\n11. As a healthcare provider, I want the system to support uncoded or free text medications and document changes.\n12. As a healthcare provider, I want the system to provide the ability to manage a patient-specific medication list, including current medications.\n\n**Allergy and Adverse Reaction Management**\n\n13. As a healthcare provider, I want the system to capture and maintain an allergy and adverse reaction list for each patient, including user modifications, the type of reaction, and an indication of whether the list was reviewed.\n14. As a healthcare provider, I want the system to indicate if the patient has no known drug allergies or adverse reactions.\n\n**Patient History Management**\n\n15. As a healthcare provider, I want the system to store, display, and manage comprehensive patient history, including medication and allergy information as discrete data elements.\n16. As a healthcare provider, I want the system to capture, update, and display patient history, including structured, coded, and free text data.\n\n**Clinical Documentation Management**\n\n17. As a healthcare provider, I want the system to provide the ability to manage clinical documentation for each patient, including saving notes in progress.\n18. As a healthcare provider, I want the system to track and display the identity of users making changes and the date/time of those changes.\n19. As a healthcare provider, I want the system to allow filtering, searching, and ordering of notes by provider or associated diagnosis.\n\n**Vital Signs Management**\n\n20. As a healthcare provider, I want the system to capture and manage patient vital signs and other clinical data elements as discrete data, displaying measurements in both metric and English units.\n21. As a healthcare provider, I want the system to indicate when values fall outside preset normal ranges.\n22. As a healthcare provider, I want the system to graph and calculate metrics like BMI over time.\n\n**Reporting and Analytics**\n\n23. As a healthcare provider, I want the system to provide reports on patient data, including medication lists, allergy lists, and vital signs.\n24. As a healthcare provider, I want the system to support data export for external analysis and reporting.\n25. As a healthcare provider, I want the system to generate alerts and notifications based on patient data and clinical guidelines.\n\n**Security and Compliance**\n\n26. As a healthcare provider, I want the system to ensure the confidentiality, integrity, and availability of patient health information, in accordance with HIPAA regulations.\n27. As a healthcare provider, I want the system to implement access controls, including authentication and authorization, to restrict access to authorized users only.\n\n**User Interface**\n\n28. As a healthcare provider, I want the system to provide an intuitive user interface that is easy to navigate and use.\n29. As a healthcare provider, I want the system to support multiple devices and platforms, including desktop computers, laptops, tablets, and smartphones.\n\nNote: These USER STORIES are based on the provided requirements and may need to be refined or modified as needed to ensure they accurately capture the user's needs and behaviors."
          },
          "metadata": {}
        }
      ]
    }
  ]
}