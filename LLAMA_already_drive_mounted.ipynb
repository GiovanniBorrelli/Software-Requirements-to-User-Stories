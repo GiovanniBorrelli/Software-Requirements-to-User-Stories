{
  "nbformat": 4,
  "nbformat_minor": 0,
  "metadata": {
    "colab": {
      "provenance": [],
      "gpuType": "T4",
      "include_colab_link": true
    },
    "kernelspec": {
      "name": "python3",
      "display_name": "Python 3"
    },
    "language_info": {
      "name": "python"
    },
    "accelerator": "GPU"
  },
  "cells": [
    {
      "cell_type": "markdown",
      "metadata": {
        "id": "view-in-github",
        "colab_type": "text"
      },
      "source": [
        "<a href=\"https://colab.research.google.com/github/GiovanniBorrelli/Software-Requirements-to-User-Stories/blob/main/LLAMA_already_drive_mounted.ipynb\" target=\"_parent\"><img src=\"https://colab.research.google.com/assets/colab-badge.svg\" alt=\"Open In Colab\"/></a>"
      ]
    },
    {
      "cell_type": "code",
      "source": [
        "# Mount Google Drive (only if not already mounted)\n",
        "from google.colab import drive\n",
        "drive.mount('/content/drive', force_remount=True)\n",
        "\n",
        "# Set environment variables for the Ollama model and package directories\n",
        "import os\n",
        "os.environ['OLLAMA_MODEL_DIR'] = '/content/drive/MyDrive/ollama_models'\n",
        "os.environ['OLLAMA_PACKAGE_DIR'] = '/content/drive/MyDrive/colab_packages'\n",
        "\n",
        "# Check if pciutils and Ollama API are already installed\n",
        "!dpkg -l | grep pciutils || sudo apt-get install -y pciutils\n",
        "!if [ ! -f /usr/local/bin/ollama ]; then curl -fsSL https://ollama.com/install.sh | sh; fi\n",
        "\n",
        "# Create a Python script to start the Ollama API server in a separate thread\n",
        "import threading\n",
        "import subprocess\n",
        "\n",
        "def ollama():\n",
        "    os.environ['OLLAMA_HOST'] = '0.0.0.0:11434'\n",
        "    os.environ['OLLAMA_ORIGINS'] = '*'\n",
        "    subprocess.Popen([\"ollama\", \"serve\"])\n",
        "\n",
        "# Start the Ollama API server in a separate thread\n",
        "ollama_thread = threading.Thread(target=ollama)\n",
        "ollama_thread.start()\n",
        "\n",
        "# Only download the model if it's not already in Google Drive\n",
        "model_path = os.path.join(os.environ['OLLAMA_MODEL_DIR'], 'llama3.1_8b')\n",
        "if not os.path.exists(model_path):\n",
        "    !ollama pull llama3.1:8b\n",
        "\n",
        "# Install lightrag only if it's not already in Google Drive\n",
        "import sys\n",
        "sys.path.append(os.environ['OLLAMA_PACKAGE_DIR'])\n",
        "\n",
        "try:\n",
        "    import lightrag\n",
        "except ImportError:\n",
        "    !pip install -U lightrag[ollama] --target=$OLLAMA_PACKAGE_DIR\n",
        "\n",
        "from lightrag.core.generator import Generator\n",
        "from lightrag.core.component import Component\n",
        "from lightrag.core.model_client import ModelClient\n",
        "from lightrag.components.model_client import OllamaClient\n",
        "\n",
        "# Template for QA system\n",
        "qa_template = r\"\"\"<SYS>\n",
        "You are a helpful assistant.\n",
        "</SYS>\n",
        "User: {{input_str}}\n",
        "You:\"\"\"\n",
        "\n",
        "# Define the SimpleQA class\n",
        "class SimpleQA(Component):\n",
        "    def __init__(self, model_client: ModelClient, model_kwargs: dict):\n",
        "        super().__init__()\n",
        "        self.generator = Generator(\n",
        "            model_client=model_client,\n",
        "            model_kwargs=model_kwargs,\n",
        "            template=qa_template,\n",
        "        )\n",
        "\n",
        "    def call(self, input: dict) -> str:\n",
        "        return self.generator.call({\"input_str\": str(input)})\n",
        "\n",
        "    async def acall(self, input: dict) -> str:\n",
        "        return await self.generator.acall({\"input_str\": str(input)})\n",
        "\n",
        "from lightrag.components.model_client import OllamaClient\n",
        "from IPython.display import Markdown, display\n",
        "# Initialize the model client\n",
        "model = {\n",
        "    \"model_client\": OllamaClient(),\n",
        "    \"model_kwargs\": {\"model\": \"llama3.1:8b\"}\n",
        "}\n",
        "qa = SimpleQA(**model)\n"
      ],
      "metadata": {
        "id": "kmY0C9-KCXJD",
        "outputId": "3cae49e1-a08b-49e8-c674-2ce9c5c3ac0c",
        "colab": {
          "base_uri": "https://localhost:8080/"
        }
      },
      "execution_count": 12,
      "outputs": [
        {
          "output_type": "stream",
          "name": "stdout",
          "text": [
            "Mounted at /content/drive\n",
            "ii  pciutils                               1:3.7.0-6                               amd64        PCI utilities\n",
            "\u001b[?25lpulling manifest ⠋ \u001b[?25h\u001b[?25l\u001b[2K\u001b[1Gpulling manifest ⠙ \u001b[?25h\u001b[?25l\u001b[2K\u001b[1Gpulling manifest ⠹ \u001b[?25h\u001b[?25l\u001b[2K\u001b[1Gpulling manifest ⠸ \u001b[?25h\u001b[?25l\u001b[2K\u001b[1Gpulling manifest ⠼ \u001b[?25h\u001b[?25l\u001b[2K\u001b[1Gpulling manifest \n",
            "pulling 8eeb52dfb3bb... 100% ▕▏ 4.7 GB                         \n",
            "pulling 948af2743fc7... 100% ▕▏ 1.5 KB                         \n",
            "pulling 0ba8f0e314b4... 100% ▕▏  12 KB                         \n",
            "pulling 56bb8bd477a5... 100% ▕▏   96 B                         \n",
            "pulling 1a4c3c319823... 100% ▕▏  485 B                         \n",
            "verifying sha256 digest \n",
            "writing manifest \n",
            "success \u001b[?25h\n"
          ]
        }
      ]
    },
    {
      "cell_type": "code",
      "source": [
        "output=qa(\"\"\"Make USER STORIES from the software requirements below.  these requirements designed to meet specific standards or guidelines in healthcare informatics, such as those from the HITSP (Health IT Standards Panel), IHE (Integrating the Healthcare Enterprise), and align with HIPAA (Health Insurance Portability and Accountability Act) regulations for protecting patient health information.\n",
        "MAKE A LIST OF ALL USER STORIES! DONT JUST TELL ME THE KEY AREAS. DO IT, EVEN IF THE USER STORIES ARE MORE THAN 50!\n",
        "Requirements:The system shall create and maintain a single patient record for each patient, storing key identifier information (e.g., system ID, medical record number) with the ability to store multiple identifiers.\n",
        "The system shall provide the ability to merge duplicate patient records into a single patient record.\n",
        "The system shall capture and maintain demographic information, including historic data (e.g., prior names, addresses), with the ability to modify and access this information as discrete data elements for patient care and reporting functions.\n",
        "The system shall allow querying for a patient using multiple forms of identification.\n",
        "The system shall capture and maintain the identity of all providers involved in a patient's care, including the principal provider.\n",
        "The system shall maintain a coded list of problems or diagnoses, capturing details such as onset date, resolution date, chronicity, and any associated orders or medications, with the ability to update, display, and document changes.\n",
        "The system shall capture and display free text comments associated with problems or diagnoses.\n",
        "The system shall maintain and display a medication list for each patient, including prescribing details, medication history, and dates (ordering, start, modify, renewal, and end). The system shall support uncoded or free text medications and document changes.\n",
        "The system shall provide the ability to manage a patient-specific medication list, including current medications, with functionality to exclude or print medications and document that a patient takes no medications.\n",
        "The system shall capture and maintain an allergy and adverse reaction list, including user modifications, the type of reaction, and an indication of whether the list was reviewed. It shall also indicate if the patient has no known drug allergies or adverse reactions.\n",
        "The system shall store, display, and manage comprehensive patient history, including medication and allergy information as discrete data elements.\n",
        "The system shall capture, update, and display patient history, including structured, coded, and free text data, with the ability to record the presence and absence of conditions and capture history from external sources.\n",
        "The system shall provide the ability to manage clinical documentation, including saving notes in progress, finalizing, cosigning, addending, and correcting notes. The system shall track and display the identity of users making changes and the date/time of those changes.\n",
        "The system shall allow filtering, searching, and ordering of notes by provider or associated diagnosis, with the ability to enter free text notes and customize templates for structured data input.\n",
        "The system shall capture and manage patient vital signs and other clinical data elements as discrete data, displaying measurements in both metric and English units, and indicating when values fall outside preset normal ranges. The system shall graph and calculate metrics like BMI over time.\n",
        "\n",
        " \"\"\")\n",
        "display(Markdown(f\"**Answer:** {output.data}\"))"
      ],
      "metadata": {
        "colab": {
          "base_uri": "https://localhost:8080/",
          "height": 942
        },
        "id": "9qBL7GouFy4e",
        "outputId": "b9fccb45-30dd-4110-bafe-9cec10efc334"
      },
      "execution_count": 13,
      "outputs": [
        {
          "output_type": "display_data",
          "data": {
            "text/plain": [
              "<IPython.core.display.Markdown object>"
            ],
            "text/markdown": "**Answer:** Here is the list of user stories:\n\n1. **Create a single patient record**: As a healthcare provider, I want to create a single patient record for each patient, so that all their key identifier information is stored in one place.\n2. **Store multiple identifiers per patient**: As a healthcare provider, I want to store multiple identifiers (e.g., system ID, medical record number) for each patient, so that I can easily track and identify them.\n3. **Merge duplicate patient records**: As a healthcare administrator, I want to merge duplicate patient records into a single patient record, so that patient information is accurate and up-to-date.\n4. **Capture demographic information**: As a healthcare provider, I want to capture and maintain demographic information (e.g., prior names, addresses) for each patient, so that I can better understand their needs and provide personalized care.\n5. **Modify and access historical data**: As a healthcare provider, I want to modify and access historical demographic information as discrete data elements, so that I can see how patients' needs have changed over time.\n6. **Query patients by multiple identifiers**: As a healthcare provider, I want to query for patients using multiple forms of identification (e.g., name, date of birth, medical record number), so that I can easily locate them in the system.\n7. **Capture principal provider information**: As a healthcare administrator, I want to capture and maintain the identity of all providers involved in a patient's care, including the principal provider, so that we can track their roles and responsibilities.\n8. **Maintain coded list of problems or diagnoses**: As a healthcare provider, I want to maintain a coded list of problems or diagnoses for each patient, capturing details such as onset date, resolution date, chronicity, and associated orders or medications.\n9. **Update, display, and document changes to coded list**: As a healthcare provider, I want to update, display, and document changes to the coded list of problems or diagnoses, so that patients' conditions are accurately reflected in their records.\n10. **Capture free text comments associated with problems or diagnoses**: As a healthcare provider, I want to capture and maintain free text comments associated with problems or diagnoses, so that additional context can be provided about patients' conditions.\n11. **Maintain medication list for each patient**: As a healthcare provider, I want to maintain and display a medication list for each patient, including prescribing details, medication history, and dates (ordering, start, modify, renewal, and end).\n12. **Support uncoded or free text medications**: As a healthcare provider, I want the system to support uncoded or free text medications and document changes, so that we can accurately capture patients' medication regimens.\n13. **Manage patient-specific medication list**: As a healthcare provider, I want to manage a patient-specific medication list, including current medications, with functionality to exclude or print medications and document that a patient takes no medications.\n14. **Capture allergy and adverse reaction information**: As a healthcare provider, I want to capture and maintain an allergy and adverse reaction list for each patient, including user modifications, the type of reaction, and an indication of whether the list was reviewed.\n15. **Document absence of known drug allergies or adverse reactions**: As a healthcare provider, I want the system to document if a patient has no known drug allergies or adverse reactions, so that we can ensure their safety when prescribing medications.\n16. **Store comprehensive patient history**: As a healthcare provider, I want to store and display comprehensive patient history, including medication and allergy information as discrete data elements.\n17. **Capture, update, and display patient history**: As a healthcare provider, I want to capture, update, and display patient history, including structured, coded, and free text data, with the ability to record the presence and absence of conditions and capture history from external sources.\n18. **Record conditions as present or absent**: As a healthcare provider, I want to be able to record conditions as present or absent in patients' records, so that we can accurately track their health status over time.\n19. **Capture history from external sources**: As a healthcare provider, I want the system to allow capture of patient history from external sources (e.g., other EHR systems), so that we can ensure complete and accurate information is available for care decisions.\n20. **Manage clinical documentation**: As a healthcare provider, I want to manage clinical documentation, including saving notes in progress, finalizing, cosigning, addending, and correcting notes, as well as tracking changes made by users.\n21. **Track changes made to clinical documentation**: As a healthcare administrator, I want the system to track and display the identity of users making changes to clinical documentation and the date/time of those changes, so that we can maintain audit trails for accountability and compliance.\n22. **Filter, search, and order notes by provider or diagnosis**: As a healthcare provider, I want to filter, search, and order notes by provider or associated diagnosis, with the ability to enter free text notes and customize templates for structured data input.\n23. **Capture patient vital signs and clinical data elements**: As a healthcare provider, I want to capture and manage patient vital signs and other clinical data elements as discrete data, displaying measurements in both metric and English units.\n24. **Graph and calculate metrics like BMI over time**: As a healthcare provider, I want the system to graph and calculate metrics like BMI over time, so that we can track patients' health status and make informed care decisions.\n\nNote: These user stories are designed to meet specific standards or guidelines in healthcare informatics, such as those from HITSP, IHE, and HIPAA regulations for protecting patient health information."
          },
          "metadata": {}
        }
      ]
    },
    {
      "cell_type": "code",
      "source": [
        "## IGNORE THIS CODE\n",
        "\n",
        "!sudo apt-get install -y pciutils\n",
        "!curl -fsSL https://ollama.com/install.sh | sh # download ollama api\n",
        "from IPython.display import clear_output\n",
        "\n",
        "# Create a Python script to start the Ollama API server in a separate thread\n",
        "\n",
        "import os\n",
        "import threading\n",
        "import subprocess\n",
        "import requests\n",
        "import json\n",
        "\n",
        "def ollama():\n",
        "    os.environ['OLLAMA_HOST'] = '0.0.0.0:11434'\n",
        "    os.environ['OLLAMA_ORIGINS'] = '*'\n",
        "    subprocess.Popen([\"ollama\", \"serve\"])\n",
        "\n",
        "ollama_thread = threading.Thread(target=ollama)\n",
        "ollama_thread.start()\n",
        "\n",
        "from IPython.display import clear_output\n",
        "!ollama pull llama3.1:8b\n",
        "clear_output()\n",
        "\n",
        "!pip install -U lightrag[ollama]\n",
        "\n",
        "from lightrag.core.generator import Generator\n",
        "from lightrag.core.component import Component\n",
        "from lightrag.core.model_client import ModelClient\n",
        "from lightrag.components.model_client import OllamaClient, GroqAPIClient\n",
        "\n",
        "import time\n",
        "\n",
        "qa_template = r\"\"\"<SYS>\n",
        "You are a helpful assistant.\n",
        "</SYS>\n",
        "User: {{input_str}}\n",
        "You:\"\"\"\n",
        "\n",
        "class SimpleQA(Component):\n",
        "    def __init__(self, model_client: ModelClient, model_kwargs: dict):\n",
        "        super().__init__()\n",
        "        self.generator = Generator(\n",
        "            model_client=model_client,\n",
        "            model_kwargs=model_kwargs,\n",
        "            template=qa_template,\n",
        "        )\n",
        "\n",
        "    def call(self, input: dict) -> str:\n",
        "        return self.generator.call({\"input_str\": str(input)})\n",
        "\n",
        "    async def acall(self, input: dict) -> str:\n",
        "        return await self.generator.acall({\"input_str\": str(input)})\n",
        "\n",
        "from lightrag.components.model_client import OllamaClient\n",
        "from IPython.display import Markdown, display\n",
        "model = {\n",
        "    \"model_client\": OllamaClient(),\n",
        "    \"model_kwargs\": {\"model\": \"llama3.1:8b\"}\n",
        "}\n",
        "qa = SimpleQA(**model)"
      ],
      "metadata": {
        "colab": {
          "base_uri": "https://localhost:8080/"
        },
        "id": "BtDFlXhqFkQH",
        "outputId": "f15a1bdc-6999-4bf0-8d01-4a254e273b84"
      },
      "execution_count": null,
      "outputs": [
        {
          "output_type": "stream",
          "name": "stdout",
          "text": [
            "Requirement already satisfied: lightrag[ollama] in /usr/local/lib/python3.10/dist-packages (0.1.0b6)\n",
            "Requirement already satisfied: backoff<3.0.0,>=2.2.1 in /usr/local/lib/python3.10/dist-packages (from lightrag[ollama]) (2.2.1)\n",
            "Requirement already satisfied: jinja2<4.0.0,>=3.1.3 in /usr/local/lib/python3.10/dist-packages (from lightrag[ollama]) (3.1.4)\n",
            "Requirement already satisfied: jsonlines<5.0.0,>=4.0.0 in /usr/local/lib/python3.10/dist-packages (from lightrag[ollama]) (4.0.0)\n",
            "Requirement already satisfied: nest-asyncio<2.0.0,>=1.6.0 in /usr/local/lib/python3.10/dist-packages (from lightrag[ollama]) (1.6.0)\n",
            "Requirement already satisfied: numpy<2.0.0,>=1.26.4 in /usr/local/lib/python3.10/dist-packages (from lightrag[ollama]) (1.26.4)\n",
            "Requirement already satisfied: python-dotenv<2.0.0,>=1.0.1 in /usr/local/lib/python3.10/dist-packages (from lightrag[ollama]) (1.0.1)\n",
            "Requirement already satisfied: pyyaml<7.0.0,>=6.0.1 in /usr/local/lib/python3.10/dist-packages (from lightrag[ollama]) (6.0.2)\n",
            "Requirement already satisfied: tiktoken<0.8.0,>=0.7.0 in /usr/local/lib/python3.10/dist-packages (from lightrag[ollama]) (0.7.0)\n",
            "Requirement already satisfied: tqdm<5.0.0,>=4.66.4 in /usr/local/lib/python3.10/dist-packages (from lightrag[ollama]) (4.66.5)\n",
            "Requirement already satisfied: ollama<0.3.0,>=0.2.1 in /usr/local/lib/python3.10/dist-packages (from lightrag[ollama]) (0.2.1)\n",
            "Requirement already satisfied: MarkupSafe>=2.0 in /usr/local/lib/python3.10/dist-packages (from jinja2<4.0.0,>=3.1.3->lightrag[ollama]) (2.1.5)\n",
            "Requirement already satisfied: attrs>=19.2.0 in /usr/local/lib/python3.10/dist-packages (from jsonlines<5.0.0,>=4.0.0->lightrag[ollama]) (24.2.0)\n",
            "Requirement already satisfied: httpx<0.28.0,>=0.27.0 in /usr/local/lib/python3.10/dist-packages (from ollama<0.3.0,>=0.2.1->lightrag[ollama]) (0.27.2)\n",
            "Requirement already satisfied: regex>=2022.1.18 in /usr/local/lib/python3.10/dist-packages (from tiktoken<0.8.0,>=0.7.0->lightrag[ollama]) (2024.5.15)\n",
            "Requirement already satisfied: requests>=2.26.0 in /usr/local/lib/python3.10/dist-packages (from tiktoken<0.8.0,>=0.7.0->lightrag[ollama]) (2.32.3)\n",
            "Requirement already satisfied: anyio in /usr/local/lib/python3.10/dist-packages (from httpx<0.28.0,>=0.27.0->ollama<0.3.0,>=0.2.1->lightrag[ollama]) (3.7.1)\n",
            "Requirement already satisfied: certifi in /usr/local/lib/python3.10/dist-packages (from httpx<0.28.0,>=0.27.0->ollama<0.3.0,>=0.2.1->lightrag[ollama]) (2024.7.4)\n",
            "Requirement already satisfied: httpcore==1.* in /usr/local/lib/python3.10/dist-packages (from httpx<0.28.0,>=0.27.0->ollama<0.3.0,>=0.2.1->lightrag[ollama]) (1.0.5)\n",
            "Requirement already satisfied: idna in /usr/local/lib/python3.10/dist-packages (from httpx<0.28.0,>=0.27.0->ollama<0.3.0,>=0.2.1->lightrag[ollama]) (3.8)\n",
            "Requirement already satisfied: sniffio in /usr/local/lib/python3.10/dist-packages (from httpx<0.28.0,>=0.27.0->ollama<0.3.0,>=0.2.1->lightrag[ollama]) (1.3.1)\n",
            "Requirement already satisfied: h11<0.15,>=0.13 in /usr/local/lib/python3.10/dist-packages (from httpcore==1.*->httpx<0.28.0,>=0.27.0->ollama<0.3.0,>=0.2.1->lightrag[ollama]) (0.14.0)\n",
            "Requirement already satisfied: charset-normalizer<4,>=2 in /usr/local/lib/python3.10/dist-packages (from requests>=2.26.0->tiktoken<0.8.0,>=0.7.0->lightrag[ollama]) (3.3.2)\n",
            "Requirement already satisfied: urllib3<3,>=1.21.1 in /usr/local/lib/python3.10/dist-packages (from requests>=2.26.0->tiktoken<0.8.0,>=0.7.0->lightrag[ollama]) (2.0.7)\n",
            "Requirement already satisfied: exceptiongroup in /usr/local/lib/python3.10/dist-packages (from anyio->httpx<0.28.0,>=0.27.0->ollama<0.3.0,>=0.2.1->lightrag[ollama]) (1.2.2)\n"
          ]
        }
      ]
    }
  ]
}